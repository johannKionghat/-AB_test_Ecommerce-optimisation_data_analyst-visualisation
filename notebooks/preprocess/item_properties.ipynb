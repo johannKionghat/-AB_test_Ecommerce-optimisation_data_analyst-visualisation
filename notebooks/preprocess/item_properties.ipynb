{
 "cells": [
  {
   "cell_type": "code",
   "execution_count": 2,
   "metadata": {},
   "outputs": [],
   "source": [
    "import pandas as pd"
   ]
  },
  {
   "cell_type": "markdown",
   "metadata": {},
   "source": [
    "**comprehension de la donnée**"
   ]
  },
  {
   "cell_type": "code",
   "execution_count": 3,
   "metadata": {},
   "outputs": [],
   "source": [
    "items = pd.read_csv('../../data/processed/p_item_properties.csv')"
   ]
  },
  {
   "cell_type": "code",
   "execution_count": 4,
   "metadata": {},
   "outputs": [
    {
     "name": "stdout",
     "output_type": "stream",
     "text": [
      "<class 'pandas.core.frame.DataFrame'>\n",
      "RangeIndex: 20275902 entries, 0 to 20275901\n",
      "Data columns (total 4 columns):\n",
      " #   Column     Dtype \n",
      "---  ------     ----- \n",
      " 0   timestamp  int64 \n",
      " 1   itemid     int64 \n",
      " 2   property   object\n",
      " 3   value      object\n",
      "dtypes: int64(2), object(2)\n",
      "memory usage: 618.8+ MB\n"
     ]
    }
   ],
   "source": [
    "items.info()"
   ]
  },
  {
   "cell_type": "code",
   "execution_count": 5,
   "metadata": {},
   "outputs": [
    {
     "data": {
      "text/html": [
       "<div>\n",
       "<style scoped>\n",
       "    .dataframe tbody tr th:only-of-type {\n",
       "        vertical-align: middle;\n",
       "    }\n",
       "\n",
       "    .dataframe tbody tr th {\n",
       "        vertical-align: top;\n",
       "    }\n",
       "\n",
       "    .dataframe thead th {\n",
       "        text-align: right;\n",
       "    }\n",
       "</style>\n",
       "<table border=\"1\" class=\"dataframe\">\n",
       "  <thead>\n",
       "    <tr style=\"text-align: right;\">\n",
       "      <th></th>\n",
       "      <th>timestamp</th>\n",
       "      <th>itemid</th>\n",
       "      <th>property</th>\n",
       "      <th>value</th>\n",
       "    </tr>\n",
       "  </thead>\n",
       "  <tbody>\n",
       "    <tr>\n",
       "      <th>0</th>\n",
       "      <td>1435460400000</td>\n",
       "      <td>460429</td>\n",
       "      <td>categoryid</td>\n",
       "      <td>1338</td>\n",
       "    </tr>\n",
       "    <tr>\n",
       "      <th>1</th>\n",
       "      <td>1441508400000</td>\n",
       "      <td>206783</td>\n",
       "      <td>888</td>\n",
       "      <td>1116713 960601 n277.200</td>\n",
       "    </tr>\n",
       "    <tr>\n",
       "      <th>2</th>\n",
       "      <td>1439089200000</td>\n",
       "      <td>395014</td>\n",
       "      <td>400</td>\n",
       "      <td>n552.000 639502 n720.000 424566</td>\n",
       "    </tr>\n",
       "    <tr>\n",
       "      <th>3</th>\n",
       "      <td>1431226800000</td>\n",
       "      <td>59481</td>\n",
       "      <td>790</td>\n",
       "      <td>n15360.000</td>\n",
       "    </tr>\n",
       "    <tr>\n",
       "      <th>4</th>\n",
       "      <td>1431831600000</td>\n",
       "      <td>156781</td>\n",
       "      <td>917</td>\n",
       "      <td>828513</td>\n",
       "    </tr>\n",
       "  </tbody>\n",
       "</table>\n",
       "</div>"
      ],
      "text/plain": [
       "       timestamp  itemid    property                            value\n",
       "0  1435460400000  460429  categoryid                             1338\n",
       "1  1441508400000  206783         888          1116713 960601 n277.200\n",
       "2  1439089200000  395014         400  n552.000 639502 n720.000 424566\n",
       "3  1431226800000   59481         790                       n15360.000\n",
       "4  1431831600000  156781         917                           828513"
      ]
     },
     "execution_count": 5,
     "metadata": {},
     "output_type": "execute_result"
    }
   ],
   "source": [
    "items.head()"
   ]
  },
  {
   "cell_type": "markdown",
   "metadata": {},
   "source": [
    "Verification des valeurs manquantes"
   ]
  },
  {
   "cell_type": "code",
   "execution_count": 6,
   "metadata": {},
   "outputs": [
    {
     "data": {
      "text/plain": [
       "timestamp    0\n",
       "itemid       0\n",
       "property     0\n",
       "value        0\n",
       "dtype: int64"
      ]
     },
     "execution_count": 6,
     "metadata": {},
     "output_type": "execute_result"
    }
   ],
   "source": [
    "items.isnull().sum()"
   ]
  },
  {
   "cell_type": "markdown",
   "metadata": {},
   "source": [
    "Pas de valeurs manquantes"
   ]
  },
  {
   "cell_type": "code",
   "execution_count": 7,
   "metadata": {},
   "outputs": [
    {
     "data": {
      "text/plain": [
       "(20275902, 4)"
      ]
     },
     "execution_count": 7,
     "metadata": {},
     "output_type": "execute_result"
    }
   ],
   "source": [
    "items.shape"
   ]
  },
  {
   "cell_type": "code",
   "execution_count": 38,
   "metadata": {},
   "outputs": [
    {
     "data": {
      "text/plain": [
       "417053"
      ]
     },
     "execution_count": 38,
     "metadata": {},
     "output_type": "execute_result"
    }
   ],
   "source": [
    "items['itemid'].nunique()"
   ]
  },
  {
   "cell_type": "code",
   "execution_count": 43,
   "metadata": {},
   "outputs": [
    {
     "data": {
      "text/html": [
       "<div>\n",
       "<style scoped>\n",
       "    .dataframe tbody tr th:only-of-type {\n",
       "        vertical-align: middle;\n",
       "    }\n",
       "\n",
       "    .dataframe tbody tr th {\n",
       "        vertical-align: top;\n",
       "    }\n",
       "\n",
       "    .dataframe thead th {\n",
       "        text-align: right;\n",
       "    }\n",
       "</style>\n",
       "<table border=\"1\" class=\"dataframe\">\n",
       "  <thead>\n",
       "    <tr style=\"text-align: right;\">\n",
       "      <th></th>\n",
       "      <th>timestamp</th>\n",
       "      <th>itemid</th>\n",
       "      <th>value</th>\n",
       "    </tr>\n",
       "    <tr>\n",
       "      <th>property</th>\n",
       "      <th></th>\n",
       "      <th></th>\n",
       "      <th></th>\n",
       "    </tr>\n",
       "  </thead>\n",
       "  <tbody>\n",
       "    <tr>\n",
       "      <th>0</th>\n",
       "      <td>41406</td>\n",
       "      <td>41406</td>\n",
       "      <td>41406</td>\n",
       "    </tr>\n",
       "    <tr>\n",
       "      <th>1</th>\n",
       "      <td>5649</td>\n",
       "      <td>5649</td>\n",
       "      <td>5649</td>\n",
       "    </tr>\n",
       "    <tr>\n",
       "      <th>10</th>\n",
       "      <td>468</td>\n",
       "      <td>468</td>\n",
       "      <td>468</td>\n",
       "    </tr>\n",
       "    <tr>\n",
       "      <th>100</th>\n",
       "      <td>253</td>\n",
       "      <td>253</td>\n",
       "      <td>253</td>\n",
       "    </tr>\n",
       "    <tr>\n",
       "      <th>1000</th>\n",
       "      <td>2853</td>\n",
       "      <td>2853</td>\n",
       "      <td>2853</td>\n",
       "    </tr>\n",
       "    <tr>\n",
       "      <th>...</th>\n",
       "      <td>...</td>\n",
       "      <td>...</td>\n",
       "      <td>...</td>\n",
       "    </tr>\n",
       "    <tr>\n",
       "      <th>997</th>\n",
       "      <td>4141</td>\n",
       "      <td>4141</td>\n",
       "      <td>4141</td>\n",
       "    </tr>\n",
       "    <tr>\n",
       "      <th>998</th>\n",
       "      <td>565</td>\n",
       "      <td>565</td>\n",
       "      <td>565</td>\n",
       "    </tr>\n",
       "    <tr>\n",
       "      <th>999</th>\n",
       "      <td>217</td>\n",
       "      <td>217</td>\n",
       "      <td>217</td>\n",
       "    </tr>\n",
       "    <tr>\n",
       "      <th>available</th>\n",
       "      <td>1503639</td>\n",
       "      <td>1503639</td>\n",
       "      <td>1503639</td>\n",
       "    </tr>\n",
       "    <tr>\n",
       "      <th>categoryid</th>\n",
       "      <td>788214</td>\n",
       "      <td>788214</td>\n",
       "      <td>788214</td>\n",
       "    </tr>\n",
       "  </tbody>\n",
       "</table>\n",
       "<p>1104 rows × 3 columns</p>\n",
       "</div>"
      ],
      "text/plain": [
       "            timestamp   itemid    value\n",
       "property                               \n",
       "0               41406    41406    41406\n",
       "1                5649     5649     5649\n",
       "10                468      468      468\n",
       "100               253      253      253\n",
       "1000             2853     2853     2853\n",
       "...               ...      ...      ...\n",
       "997              4141     4141     4141\n",
       "998               565      565      565\n",
       "999               217      217      217\n",
       "available     1503639  1503639  1503639\n",
       "categoryid     788214   788214   788214\n",
       "\n",
       "[1104 rows x 3 columns]"
      ]
     },
     "execution_count": 43,
     "metadata": {},
     "output_type": "execute_result"
    }
   ],
   "source": [
    "items.groupby('property').count()"
   ]
  },
  {
   "cell_type": "code",
   "execution_count": 54,
   "metadata": {},
   "outputs": [
    {
     "name": "stdout",
     "output_type": "stream",
     "text": [
      "              timestamp  itemid   property value\n",
      "5         1436065200000  285026  available     0\n",
      "15        1437274800000  186518  available     0\n",
      "79        1433646000000  423682  available     0\n",
      "82        1434250800000  316253  available     1\n",
      "96        1437274800000  430459  available     0\n",
      "...                 ...     ...        ...   ...\n",
      "20275845  1440903600000  229797  available     0\n",
      "20275855  1438484400000  225378  available     1\n",
      "20275889  1433041200000  356167  available     0\n",
      "20275891  1439089200000  200211  available     0\n",
      "20275896  1436065200000   74745  available     0\n",
      "\n",
      "[1503639 rows x 4 columns]\n"
     ]
    }
   ],
   "source": [
    "\n",
    "items_available = items[items['property']=='available']\n",
    "print(items_available)\n"
   ]
  },
  {
   "cell_type": "code",
   "execution_count": 55,
   "metadata": {},
   "outputs": [
    {
     "name": "stdout",
     "output_type": "stream",
     "text": [
      "              timestamp  itemid    property value\n",
      "0         1435460400000  460429  categoryid  1338\n",
      "140       1432436400000  281245  categoryid  1277\n",
      "151       1435460400000   35575  categoryid  1059\n",
      "189       1437274800000    8313  categoryid  1147\n",
      "197       1437879600000   55102  categoryid    47\n",
      "...                 ...     ...         ...   ...\n",
      "20275797  1433646000000  255696  categoryid  1404\n",
      "20275822  1431226800000  390760  categoryid   324\n",
      "20275830  1437879600000  211844  categoryid   256\n",
      "20275872  1435460400000  444741  categoryid   511\n",
      "20275878  1435460400000   97513  categoryid  1385\n",
      "\n",
      "[788214 rows x 4 columns]\n"
     ]
    }
   ],
   "source": [
    "items_category = items[items['property']=='categoryid']\n",
    "print(items_category)\n"
   ]
  },
  {
   "cell_type": "code",
   "execution_count": 59,
   "metadata": {},
   "outputs": [
    {
     "name": "stdout",
     "output_type": "stream",
     "text": [
      "              timestamp  itemid property  \\\n",
      "7602043   1435460400000  261118        0   \n",
      "15003604  1433646000000    8344        0   \n",
      "18349773  1433041200000   65223        0   \n",
      "3375664   1441508400000  123636        0   \n",
      "15294204  1435460400000   43950        0   \n",
      "...                 ...     ...      ...   \n",
      "4307705   1435460400000  242849      999   \n",
      "9474316   1433041200000  214619      999   \n",
      "13943097  1434250800000  430870      999   \n",
      "10024762  1432436400000  433640      999   \n",
      "9025505   1439694000000   80335      999   \n",
      "\n",
      "                                                      value  \n",
      "7602043                                              769062  \n",
      "15003604                                             769062  \n",
      "18349773                                      440924 680327  \n",
      "3375664   119932 717520 754228 505898 98606 632686 40647...  \n",
      "15294204                                     824508 1157821  \n",
      "...                                                     ...  \n",
      "4307705                                             1116693  \n",
      "9474316                                             1116693  \n",
      "13943097                                            1116693  \n",
      "10024762                                            1116693  \n",
      "9025505                                             1116693  \n",
      "\n",
      "[17984049 rows x 4 columns]\n"
     ]
    }
   ],
   "source": [
    "items_neutre = items[(items['property'] != 'available') & (items['property'] != 'categoryid')]\n",
    "items_neutre_sorted = items_neutre.sort_values(by='property')\n",
    "print(items_neutre_sorted)"
   ]
  },
  {
   "cell_type": "code",
   "execution_count": null,
   "metadata": {},
   "outputs": [],
   "source": [
    "items_available_category = pd.merge(pd.merge(items_available, items_category, on='itemid', how='inner'), items_neutre, on='itemid', how='inner')\n",
    "print(items_available_category_neutre)\n",
    "print(items_available_category_neutre.itemid.duplicated().sum())"
   ]
  },
  {
   "cell_type": "code",
   "execution_count": 16,
   "metadata": {},
   "outputs": [
    {
     "name": "stdout",
     "output_type": "stream",
     "text": [
      "Unique items: 417053\n",
      "All items: 20275902\n"
     ]
    }
   ],
   "source": [
    "uni_itemid= items.itemid.nunique()\n",
    "all_itemid= items.itemid.count()\n",
    "print('Unique items:',uni_itemid)\n",
    "print('All items:',all_itemid)"
   ]
  }
 ],
 "metadata": {
  "kernelspec": {
   "display_name": "venv",
   "language": "python",
   "name": "python3"
  },
  "language_info": {
   "codemirror_mode": {
    "name": "ipython",
    "version": 3
   },
   "file_extension": ".py",
   "mimetype": "text/x-python",
   "name": "python",
   "nbconvert_exporter": "python",
   "pygments_lexer": "ipython3",
   "version": "3.12.4"
  }
 },
 "nbformat": 4,
 "nbformat_minor": 2
}
